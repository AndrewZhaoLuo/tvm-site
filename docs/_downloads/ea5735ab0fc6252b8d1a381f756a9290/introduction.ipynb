{
  "cells": [
    {
      "cell_type": "code",
      "execution_count": null,
      "metadata": {
        "collapsed": false
      },
      "outputs": [],
      "source": [
        "%matplotlib inline"
      ]
    },
    {
      "cell_type": "markdown",
      "metadata": {},
      "source": [
        "\nIntroduction\n============\n**Authors**:\n`Jocelyn Shiue <https://github.com/>`_,\n`Chris Hoge <https://github.com/hogepodge>`_\n\nApache TVM is an open source machine learning compiler framework for CPUs,\nGPUs, and machine learning accelerators. It aims to enable machine learning\nengineers to optimize and run computations efficiently on any hardware backend.\nThe purpose of this tutorial is to take a guided tour through all of the major\nfeatures of TVM by defining and demonstrating key concepts. A new user should\nbe able to work through the tutorial from start to finish and be able to\noperate TVM for automatic model optimization, while having a basic\nunderstanding of the TVM architecture and how it works.\n\nContents\n--------\n\n#. :doc:`Introduction <introduction>`\n#. :doc:`Installing TVM <install>`\n#. :doc:`Compiling and Optimizing a Model with TVMC <tvmc_command_line_driver>`\n#. :doc:`Compiling and Optimizing a Model with the Python AutoScheduler <auto_tuning_with_python>`\n#. :doc:`Working with Operators Using Tensor Expressions <tensor_expr_get_started>`\n#. :doc:`Optimizing Operators with Templates and AutoTVM <autotvm_matmul>`\n#. :doc:`Optimizing Operators with AutoScheduling <tune_matmul_x86>`\n#. :doc:`Cross Compilation and Remote Procedure Calls (RPC) <cross_compilation_and_rpc>`\n#. :doc:`Compiling Deep Learning Models for GPUs <relay_quick_start>`\n\n"
      ]
    },
    {
      "cell_type": "markdown",
      "metadata": {},
      "source": [
        "An Overview of TVM and Model Optimization\n=========================================\n\nThe diagram below illustrates the steps a machine model takes as it is\ntransformed with the TVM optimizing compiler framework.\n\n![](https://raw.githubusercontent.com/hogepodge/web-data/c339ebbbae41f3762873147c1e920a53a08963dd/images/getting_started/overview.png)\n\n  :width: 100%\n  :alt: A High Level View of TVM\n\n1. Import the model from a framework like *Tensorflow*, *Pytorch*, or *Onnx*.\n   The importer layer is where TVM can ingest models from other frameworks, like\n   ONNX, Tensorflow, or PyTorch. The level of support that TVM offers for each\n   frontend varies as we are constantly improving the open source project. If\n   you're having issues importing your model into TVM, you may want to try\n   converting it to ONNX.\n\n2. Translate to *Relay*, TVM's high level model language.\n   A model that has been imported into TVM is represented in Relay. Relay is a\n   functional language and intermediate representation (IR) for neural networks.\n   It has support for:\n\n   - Traditional data flow-style representations\n   - Functional-style scoping, let-binding which makes it a fully featured\n     differentiable language\n   - Ability to allow the user to mix the two programming styles\n\n   Relay applies several high-level optimization to the model, after which\n   is runs the Relay Fusion Pass. To aid in the process of converting to\n   Relay, TVM includes a Tensor Operator Inventory (TOPI) that has pre-defined\n   templates of common computations.\n\n3. Lower to *Tensor Expression* (TE) representation. Lowering is when a\n   higher-level representation is transformed into a lower-level\n   representation. In Relay Fusion Pass, the model is lowered from the\n   higher-level Relay representation into a smaller set of subgraphs, where\n   each node is a task. A task is a collection of computation templates,\n   expressed in TE, where there parameters of the template can control how\n   the computation is carried out on hardware. The specific ordering of compuation,\n   defined by parameters to the TE template, is called a schedule.\n\n4. Search for optimized schedule using *AutoTVM* or *AutoScheduler* for each\n   task through tuning. Tuning is the process of searching the TE parameter\n   space for a schedule that is optimized for target hardware. There are\n   couple of optimization options available, each requiring varying levels of\n   user interaction. The optimization options include:\n\n   - **AutoTVM**: The user specifies a search template for the schedule of a TE task,\n     or TE subraph. AutoTVM directs the search of the parameter space defined by the\n     template to produce an optimized configuration. AutoTVM requires users to\n     define manually templates for each operator as part of the TOPI.\n   - **Ansor/AutoSchedule**: Using a TVM Operator Inventory (TOPI) of operations,\n     Ansor can automatically search an optimization space with much less\n     intervention and guidance from the end user. Ansor depends on TE templates to\n     guide the search.\n\n5. Choose the optimal configuration for the model. After tuning, an optimal schedule\n   for each task is chosen. Regardless if it is AutoTVM or AutoSchedule,\n   schedule records in JSON format are produced that are referred to by this step\n   to build an optimized model.\n\n6. Lower to a hardware specific compiler. After selecting an optimized configuration\n   based on the tuning step, the model is then lowered to a representation\n   expected by the target compiler for the hardware platform. This is the\n   final code generation phase with the intention of producing an optimized\n   model that can be deployed into production. TVM supports a number of\n   different compiler backends including:\n\n   - LLVM, which can target arbitrary microprocessor architecture including\n     standard x86 and ARM processors, AMDGPU and NVPTX code generation, and any\n     other platform supported by LLVM.\n   - Specialized compilers, such as NVCC, NVIDIA's compiler.\n   - Embedded and specialized targets, which are implemented through TVM's\n     Bring Your Own Codegen (BYOC) framework.\n\n7. Compile down to machine code. At the end of this process, the\n   compiler-specific generated code can be lowered to machine code.\n\n   TVM can compile models down to a linkable object module, which can then be\n   run with a lightweight TVM runtime that provides C APIs to dynamically\n   load the model, and entry points for other languages such as Python and\n   Rust. TVM can also build a bundled deployment in which the runtime is\n   combined with the model in a single package.\n\nThe remainder of the tutorial will cover these aspects of TVM in more detail.\n\n"
      ]
    }
  ],
  "metadata": {
    "kernelspec": {
      "display_name": "Python 3",
      "language": "python",
      "name": "python3"
    },
    "language_info": {
      "codemirror_mode": {
        "name": "ipython",
        "version": 3
      },
      "file_extension": ".py",
      "mimetype": "text/x-python",
      "name": "python",
      "nbconvert_exporter": "python",
      "pygments_lexer": "ipython3",
      "version": "3.6.12"
    }
  },
  "nbformat": 4,
  "nbformat_minor": 0
}